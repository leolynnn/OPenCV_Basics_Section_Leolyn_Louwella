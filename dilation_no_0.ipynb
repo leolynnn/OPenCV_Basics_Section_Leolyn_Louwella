{
  "nbformat": 4,
  "nbformat_minor": 0,
  "metadata": {
    "colab": {
      "provenance": []
    },
    "kernelspec": {
      "name": "python3",
      "display_name": "Python 3"
    },
    "language_info": {
      "name": "python"
    }
  },
  "cells": [
    {
      "cell_type": "code",
      "execution_count": null,
      "metadata": {
        "id": "YHy5wkkguyv1"
      },
      "outputs": [],
      "source": []
    },
    {
      "cell_type": "code",
      "source": [
        "import cv2\n",
        "from google.colab.patches import cv2_imshow\n",
        "import numpy as np"
      ],
      "metadata": {
        "id": "8svrPIJyu1cU"
      },
      "execution_count": 2,
      "outputs": []
    },
    {
      "cell_type": "code",
      "source": [
        "image = cv2.imread(\"0_29.jpg\")\n",
        "# cv2_imshow(image)\n",
        "if image is None:\n",
        "    print(\"Failed to load image!\")"
      ],
      "metadata": {
        "id": "ES_GXUwzu2K_"
      },
      "execution_count": 25,
      "outputs": []
    },
    {
      "cell_type": "code",
      "source": [
        "gray = cv2.cvtColor(image,cv2.COLOR_BGR2GRAY)\n"
      ],
      "metadata": {
        "id": "97UM1yndvU6a"
      },
      "execution_count": 26,
      "outputs": []
    },
    {
      "cell_type": "code",
      "source": [
        "canny_image = cv2.Canny(gray,150, 200)\n",
        "# cv2_imshow(canny_image)"
      ],
      "metadata": {
        "id": "G7vsXL2LwAsR"
      },
      "execution_count": 27,
      "outputs": []
    },
    {
      "cell_type": "code",
      "source": [
        "#Dilation\n",
        "\n",
        "kernel = np.ones((1,1), np.uint8)\n",
        "dilate_image = cv2.dilate(canny_image, kernel, iterations=1)\n",
        "cv2_imshow(dilate_image)\n",
        "kernel1 = np.ones((3,3), np.uint8)\n",
        "dilate_image1 = cv2.dilate(canny_image, kernel1, iterations=1)\n",
        "cv2_imshow(dilate_image1)\n",
        "kernel2 = np.ones((5,5), np.uint8)\n",
        "dilate_image2 = cv2.dilate(canny_image, kernel2, iterations=1)\n",
        "cv2_imshow(dilate_image2)\n",
        "kernel3 = np.ones((7,7), np.uint8)\n",
        "dilate_image3 = cv2.dilate(canny_image, kernel3, iterations=1)\n",
        "cv2_imshow(dilate_image3)\n",
        "kernel4 = np.ones((9,9), np.uint8)\n",
        "dilate_image4 = cv2.dilate(canny_image, kernel4, iterations=1)\n",
        "cv2_imshow(dilate_image4)"
      ],
      "metadata": {
        "colab": {
          "base_uri": "https://localhost:8080/",
          "height": 422
        },
        "id": "wOQeIC460VVb",
        "outputId": "273ab907-f46a-4db6-a57c-82656d6f831e"
      },
      "execution_count": 28,
      "outputs": [
        {
          "output_type": "display_data",
          "data": {
            "text/plain": [
              "<PIL.Image.Image image mode=L size=78x81>"
            ],
            "image/png": "[encoded data removed]",
            "image/jpeg": "[encoded data removed]"
          },
          "metadata": {}
        },
        {
          "output_type": "display_data",
          "data": {
            "text/plain": [
              "<PIL.Image.Image image mode=L size=78x81>"
            ],
            "image/png": "[encoded data removed]",
            "image/jpeg": "[encoded data removed]"
          },
          "metadata": {}
        },
        {
          "output_type": "display_data",
          "data": {
            "text/plain": [
              "<PIL.Image.Image image mode=L size=78x81>"
            ],
            "image/png": "[encoded data removed]",
            "image/jpeg": "[encoded data removed]"
          },
          "metadata": {}
        },
        {
          "output_type": "display_data",
          "data": {
            "text/plain": [
              "<PIL.Image.Image image mode=L size=78x81>"
            ],
            "image/png": "[encoded data removed]",
            "image/jpeg": "[encoded data removed]"
          },
          "metadata": {}
        },
        {
          "output_type": "display_data",
          "data": {
            "text/plain": [
              "<PIL.Image.Image image mode=L size=78x81>"
            ],
            "image/png": "[encoded data removed]",
            "image/jpeg": "[encoded data removed]"
          },
          "metadata": {}
        }
      ]
    },
    {
      "cell_type": "code",
      "source": [],
      "metadata": {
        "id": "896IxMBu0jUS"
      },
      "execution_count": null,
      "outputs": []
    }
  ]
}